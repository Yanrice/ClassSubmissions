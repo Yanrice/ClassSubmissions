{
 "cells": [
  {
   "cell_type": "code",
   "execution_count": null,
   "metadata": {},
   "outputs": [],
   "source": [
    "#Import necessary modules\n",
    "import pandas as pd\n",
    "import seaborn as sns\n",
    "import matplotlib as plt\n",
    "import numpy as np\n",
    "import scipy.stats as stats\n",
    "from scipy.stats import norm"
   ]
  },
  {
   "cell_type": "code",
   "execution_count": null,
   "metadata": {},
   "outputs": [],
   "source": [
    "#Vijay - Original Clean Up\n",
    "#Bring in the data CSV\n",
    "data = \"cardio_train.csv\"\n",
    "cardio_df = pd.read_csv(data, delimiter = ';')\n",
    "cardio_df.head()"
   ]
  },
  {
   "cell_type": "code",
   "execution_count": null,
   "metadata": {},
   "outputs": [],
   "source": [
    "#Vijay - Original Clean Up\n",
    "#Clean up age & drop the unneeded ID column\n",
    "cardio1_df= cardio_df.drop(['id'],axis=1)\n",
    "# cardio1_df.active[cardio1_df.active == 1] = \"True\"\n",
    "# cardio1_df.active[cardio1_df.active == 0] = \"False\"\n",
    "age_upd = cardio1_df['age'].div(365)\n",
    "rounded_age = round(age_upd)\n",
    "cardio1_df.update(rounded_age)\n",
    "\n",
    "#Convert to US understood numbers & add column for BMI\n",
    "weight_upd = round(cardio1_df['weight']*2.2)\n",
    "height_upd = round(cardio1_df['height'].div(2.54))\n",
    "\n",
    "cardio1_df.update(weight_upd)\n",
    "cardio1_df.update(height_upd)\n",
    "cardio1_df.head()\n",
    "\n",
    "cardio1_df[\"BMI\"] = (cardio1_df['weight']*703)/(cardio1_df[\"height\"]*cardio1_df[\"height\"])\n",
    "cardio1_df.head()"
   ]
  },
  {
   "cell_type": "code",
   "execution_count": null,
   "metadata": {},
   "outputs": [],
   "source": [
    "#Vijay - Original Clean Up\n",
    "#Get Heart attack group data\n",
    "cardio_1 = cardio1_df.groupby([\"cardio\"]).get_group(1)\n",
    "cardio_1.head()"
   ]
  },
  {
   "cell_type": "code",
   "execution_count": null,
   "metadata": {},
   "outputs": [],
   "source": [
    "#Vijay - Original Clean Up\n",
    "#Group by No Heart Attack\n",
    "cardio_0 = cardio1_df.groupby([\"cardio\"]).get_group(0)\n",
    "cardio_0.head()"
   ]
  },
  {
   "cell_type": "code",
   "execution_count": null,
   "metadata": {},
   "outputs": [],
   "source": [
    "ax0 = sns.distplot(cardio_0[\"age\"], bins=10, fit=stats.norm, kde=False, label = \"Age- No attack\", color = \"g\", fit_kws={\"color\":\"green\"})\n",
    "ax1 = sns.distplot(cardio_1[\"age\"], bins=10, fit=stats.norm, kde=False, label = \"Age- Attack\", color =\"b\", fit_kws={\"color\":\"blue\"})\n",
    "\n",
    "#Change how it looks\n",
    "sns.set_style(\"darkgrid\")\n",
    "sns.set_style(\"ticks\")\n",
    "sns.set_context(\"paper\", font_scale=1.5)\n",
    "sns.set_palette(\"deep\")\n",
    "ax0.set(xlabel='Age', ylabel='Frequency Count', title = \"Heart Attacks vs No Heart AttacksS \")\n",
    "ax1.set(xlabel='Frequency count', ylabel='Frequency Count', title = \"Heart Attacks vs No Heart Attacks \")\n",
    "\n",
    "#Set x limits\n",
    "ax0.set(xlim = [0,100])\n",
    "ax1.set(xlim = [0,100])\n",
    "\n",
    "#Save the figure\n",
    "ax0.figure.savefig(\"SBP.png\")\n",
    "ax1.figure.savefig(\"SBP.png\")\n",
    "stats.ttest_ind(cardio_1['age'], cardio_0['age'], equal_var=False)\n"
   ]
  },
  {
   "cell_type": "code",
   "execution_count": null,
   "metadata": {},
   "outputs": [],
   "source": [
    "cardio_1.age.value_counts()\n",
    "young_age1= cardio_1[cardio_1.age <= 50]\n",
    "old_age1 = cardio_1[(cardio_1.age >50) & (cardio_1.age<= 80)]\n",
    "young_age0= cardio_0[cardio_0.age <= 50]\n",
    "old_age0 = cardio_0[(cardio_0.age >50) & (cardio_0.age<= 80)]"
   ]
  },
  {
   "cell_type": "code",
   "execution_count": null,
   "metadata": {},
   "outputs": [],
   "source": [
    "ax0 = sns.distplot(young_age0['age'], bins=10, fit=stats.norm, kde=False, label = \"Age- No attack\", color = \"g\", fit_kws={\"color\":\"green\"})\n",
    "ax1 = sns.distplot(young_age1['age'], bins=10, fit=stats.norm, kde=False, label = \"Age- Attack\", color =\"b\", fit_kws={\"color\":\"blue\"})\n",
    "\n",
    "#Change how it looks\n",
    "sns.set_style(\"darkgrid\")\n",
    "sns.set_style(\"ticks\")\n",
    "sns.set_context(\"paper\", font_scale=1.5)\n",
    "sns.set_palette(\"deep\")\n",
    "ax0.set(xlabel='Young Age', ylabel='Frequency Count', title = \"Heart Attacks vs No Heart Attacks\")\n",
    "ax1.set(xlabel='Young Age', ylabel='Frequency Count', title = \"Heart Attacks vs No Heart Attacks \")\n",
    "\n",
    "#Set x limits\n",
    "ax0.set(xlim = [20,60])\n",
    "ax1.set(xlim = [20,60])\n",
    "\n",
    "#Save the figure\n",
    "ax0.figure.savefig(\"SBP.png\")\n",
    "ax1.figure.savefig(\"SBP.png\")"
   ]
  },
  {
   "cell_type": "code",
   "execution_count": null,
   "metadata": {},
   "outputs": [],
   "source": [
    "ax0 = sns.distplot(old_age0['age'], bins=10, fit=stats.norm, kde=False, label = \"Age- No attack\", color = \"g\", fit_kws={\"color\":\"green\"})\n",
    "ax1 = sns.distplot(old_age1['age'], bins=10, fit=stats.norm, kde=False, label = \"Age- Attack\", color =\"b\", fit_kws={\"color\":\"blue\"})\n",
    "\n",
    "#Change how it looks\n",
    "sns.set_style(\"darkgrid\")\n",
    "sns.set_style(\"ticks\")\n",
    "sns.set_context(\"paper\", font_scale=1.5)\n",
    "sns.set_palette(\"deep\")\n",
    "ax0.set(xlabel='Old Age', ylabel='Frequency Count', title = \"Heart Attacks vs No Heart Attacks\")\n",
    "ax1.set(xlabel='Old Age', ylabel='Frequency Count', title = \"Heart Attacks vs No Heart Attacks\")\n",
    "\n",
    "#Set x limits\n",
    "ax0.set(xlim = [50,80])\n",
    "ax1.set(xlim = [50,80])\n",
    "\n",
    "#Save the figure\n",
    "ax0.figure.savefig(\"SBP.png\")\n",
    "ax1.figure.savefig(\"SBP.png\")\n",
    "\n",
    "\n"
   ]
  },
  {
   "cell_type": "code",
   "execution_count": null,
   "metadata": {},
   "outputs": [],
   "source": [
    "#Kendall\n",
    "#Clean Cardio0 to remove outliers - negative and impossibly high BPs\n",
    "cardio_0 = cardio_0[cardio_0['ap_lo'] >= 50]\n",
    "cardio_0 = cardio_0[cardio_0['ap_lo'] < 200]\n",
    "cardio_0.head()"
   ]
  },
  {
   "cell_type": "code",
   "execution_count": null,
   "metadata": {},
   "outputs": [],
   "source": [
    "#Kendall\n",
    "#Clean Cardio1 to remove outliers - negative and impossibly high BPs\n",
    "cardio_1 = cardio_1[cardio_1['ap_lo'] >= 50]\n",
    "cardio_1 = cardio_1[cardio_1['ap_lo'] < 200]\n",
    "cardio_1.head()"
   ]
  },
  {
   "cell_type": "code",
   "execution_count": null,
   "metadata": {},
   "outputs": [],
   "source": [
    "#Kendall\n",
    "#DBP ttest comparison for heart attack vs no heart attack\n",
    "stats.ttest_ind(cardio_0['ap_lo'], cardio_1['ap_lo'], equal_var = False)"
   ]
  },
  {
   "cell_type": "code",
   "execution_count": null,
   "metadata": {},
   "outputs": [],
   "source": [
    "#Kendall\n",
    "#Display the bell curve\n",
    "cardio0_dbp = sns.distplot(cardio_0['ap_lo'], fit = norm, label = \"DBP Heart \", color = \"g\", bins = 10, kde = False, fit_kws={\"color\":\"green\"})\n",
    "cardio1_dbp = sns.distplot(cardio_1['ap_lo'], fit = norm, label = \"DBP Non Heart Attack\", color = \"b\", bins = 10, kde = False, fit_kws={\"color\":\"blue\"})\n",
    "\n",
    "#Change how it looks\n",
    "sns.set_style(\"darkgrid\")\n",
    "sns.set_style(\"ticks\")\n",
    "sns.set_context(\"paper\", font_scale=1.5)\n",
    "sns.set_palette(\"deep\")\n",
    "cardio0_dbp.set(xlabel='Diastolic Blood Pressure', ylabel='Frequency Count', title = \"Diastolic Blood Pressure: Risk of Heart Attack\")\n",
    "cardio1_dbp.set(xlabel='Diastolic Blood Pressure', ylabel='Frequency Count', title = \"Diastolic Blood Pressure: Risk of Heart Attack\")\n",
    "\n",
    "#Set x limits\n",
    "cardio0_dbp.set(xlim = [0,250])\n",
    "cardio1_dbp.set(xlim = [0,250])\n",
    "\n",
    "#Save the figure\n",
    "cardio0_dbp.figure.savefig(\"DBP.png\")\n",
    "cardio1_dbp.figure.savefig(\"DBP.png\")"
   ]
  },
  {
   "cell_type": "code",
   "execution_count": null,
   "metadata": {},
   "outputs": [],
   "source": [
    "#Kendall\n",
    "#Find 1,2,3 Category Totals\n",
    "\n",
    "#Get sums of 3 categories for No Heart Attack\n",
    "cat1_0 = cardio_0[cardio_0['gluc']==1].count()\n",
    "print(cat1_0['gluc'])\n",
    "cat2_0 = cardio_0[cardio_0['gluc']==2].count()\n",
    "print(cat2_0['gluc'])\n",
    "cat3_0 = cardio_0[cardio_0['gluc']==3].count()\n",
    "print(cat3_0['gluc'])\n",
    "\n",
    "#Get sums of 3 categories for Yes Heart Attack\n",
    "cat1_1 = cardio_1[cardio_1['gluc']==1].count()\n",
    "print(cat1_1['gluc'])\n",
    "cat2_1 = cardio_1[cardio_1['gluc']==2].count()\n",
    "print(cat2_1['gluc'])\n",
    "cat3_1 = cardio_1[cardio_1['gluc']==3].count()\n",
    "print(cat3_1['gluc'])"
   ]
  },
  {
   "cell_type": "code",
   "execution_count": null,
   "metadata": {},
   "outputs": [],
   "source": [
    "#Kendall\n",
    "#Create Chi Square DF\n",
    "cs_data = pd.Series([cat1_0['gluc'], cat2_0['gluc'], cat3_0['gluc']], index = [\"Normal\", \"Above Normal\", \"Well Above Normal\"])\n",
    "cs_exp = pd.Series([cat1_1['gluc'], cat2_1['gluc'], cat3_1['gluc']], index = [\"Normal\", \"Above Normal\", \"Well Above Normal\"])\n",
    "\n",
    "cs_df = pd.DataFrame(cs_data)\n",
    "cs_df[1] = cs_exp\n",
    "cs_df"
   ]
  },
  {
   "cell_type": "code",
   "execution_count": null,
   "metadata": {},
   "outputs": [],
   "source": [
    "#Kendall\n",
    "#Run Chi Square\n",
    "stats.chisquare(cs_df[0], cs_df[1])"
   ]
  },
  {
   "cell_type": "code",
   "execution_count": null,
   "metadata": {},
   "outputs": [],
   "source": [
    "#Kendall\n",
    "#Clean up chi data frame\n",
    "cs_df.columns = [\"No Heart Attack Glucose\", \"Heart Attack Glucose\"]\n",
    "cs_df"
   ]
  },
  {
   "cell_type": "code",
   "execution_count": null,
   "metadata": {},
   "outputs": [],
   "source": [
    "#Kendall\n",
    "#Create bar graph for chi square for Glucose Levels\n",
    "cardio_gluc = cs_df.plot.bar(rot=45, color = [\"green\", \"blue\"])"
   ]
  },
  {
   "cell_type": "code",
   "execution_count": null,
   "metadata": {},
   "outputs": [],
   "source": [
    "#Dinesh\n",
    "#Cleaning up ap hi data\n",
    "cardio_1 = cardio1_df.groupby([\"cardio\"]).get_group(1)\n",
    "cardio_1.head()\n",
    "cardio_1 = cardio_1[cardio_1['ap_hi']>=50]\n",
    "cardio_1 = cardio_1[cardio_1['ap_hi']<200]"
   ]
  },
  {
   "cell_type": "code",
   "execution_count": null,
   "metadata": {},
   "outputs": [],
   "source": [
    "#Dinesh\n",
    "#Cleaning up ap hi data for 0\n",
    "cardio_0 = cardio1_df.groupby([\"cardio\"]).get_group(0)\n",
    "cardio_0.head()\n",
    "cardio_0 = cardio_0[cardio_0['ap_hi']>=50]\n",
    "cardio_0 = cardio_0[cardio_0['ap_hi']<200]"
   ]
  },
  {
   "cell_type": "code",
   "execution_count": null,
   "metadata": {},
   "outputs": [],
   "source": [
    "#Dinesh\n",
    "#ttest for SBP\n",
    "stats.ttest_ind(cardio_0['ap_hi'], cardio_1['ap_hi'], equal_var = False)"
   ]
  },
  {
   "cell_type": "code",
   "execution_count": null,
   "metadata": {},
   "outputs": [],
   "source": [
    "#Dinesh\n",
    "#plot bell curve for SBP\n",
    "ax0 = sns.distplot(cardio_0[\"ap_hi\"], bins=10, fit=stats.norm, kde=False, label = \"ap_hi - No attack\", color = \"g\", fit_kws={\"color\":\"green\"})\n",
    "ax1 = sns.distplot(cardio_1[\"ap_hi\"], bins=10, fit=stats.norm, kde=False, label = \"ap_hi - Attack\", color =\"b\", fit_kws={\"color\":\"blue\"})\n",
    "\n",
    "#Change how it looks\n",
    "sns.set_style(\"darkgrid\")\n",
    "sns.set_style(\"ticks\")\n",
    "sns.set_context(\"paper\", font_scale=1.5)\n",
    "sns.set_palette(\"deep\")\n",
    "ax0.set(xlabel='Systolic Blood Pressure', ylabel='Frequency Count', title = \"Systolic Blood Pressure: Risk of Heart Attack\")\n",
    "ax1.set(xlabel='Systolic Blood Pressure', ylabel='Frequency Count', title = \"Systolic Blood Pressure: Risk of Heart Attack\")\n",
    "\n",
    "#Set x limits\n",
    "ax0.set(xlim = [0,250])\n",
    "ax1.set(xlim = [0,250])\n",
    "\n",
    "#Save the figure\n",
    "ax0.figure.savefig(\"SBP.png\")\n",
    "ax1.figure.savefig(\"SBP.png\")"
   ]
  },
  {
   "cell_type": "code",
   "execution_count": null,
   "metadata": {},
   "outputs": [],
   "source": [
    "#Dinesh\n",
    "#Observed for cholesterol \n",
    "\n",
    "normal_chol_attack = len(cardio_1[cardio_1[\"cholesterol\"] == 1])\n",
    "print(normal_chol_attack)\n",
    "\n",
    "above_normal_chol_attack = len(cardio_1[cardio_1[\"cholesterol\"] == 2])\n",
    "print(above_normal_chol_attack)\n",
    "\n",
    "well_above_normal_chol_attack = len(cardio_1[cardio_1[\"cholesterol\"] == 3])\n",
    "print(well_above_normal_chol_attack)"
   ]
  },
  {
   "cell_type": "code",
   "execution_count": null,
   "metadata": {},
   "outputs": [],
   "source": [
    "#Dinesh\n",
    "#Create series for cholesterol\n",
    "observed_cholesterol=pd.Series([normal_chol_attack,above_normal_chol_attack, well_above_normal_chol_attack],index = ['normal cholesterol', 'above normal cholesterol', 'well above normal cholesterol'])\n",
    "observed_cholesterol"
   ]
  },
  {
   "cell_type": "code",
   "execution_count": null,
   "metadata": {},
   "outputs": [],
   "source": [
    "#Dinesh\n",
    "#Expected for Cholesterol\n",
    "\n",
    "normal_chol_no_attack = len(cardio_0[cardio_0[\"cholesterol\"] == 1])\n",
    "print(normal_chol_no_attack)\n",
    "\n",
    "above_normal_chol_no_attack = len(cardio_0[cardio_0[\"cholesterol\"] == 2])\n",
    "print(above_normal_chol_no_attack)\n",
    "\n",
    "well_above_normal_chol_no_attack = len(cardio_0[cardio_0[\"cholesterol\"] == 3])\n",
    "print(well_above_normal_chol_no_attack)"
   ]
  },
  {
   "cell_type": "code",
   "execution_count": null,
   "metadata": {},
   "outputs": [],
   "source": [
    "#Dinesh\n",
    "#Created expected series for Cholesterol\n",
    "expected_cholesterol=pd.Series([normal_chol_no_attack, above_normal_chol_no_attack, well_above_normal_chol_no_attack],index = ['normal cholesterol', 'above normal cholesterol', 'well above normal cholesterol'])\n",
    "expected_cholesterol "
   ]
  },
  {
   "cell_type": "code",
   "execution_count": null,
   "metadata": {},
   "outputs": [],
   "source": [
    "#Dinesh\n",
    "#Create cholesterol chi dataframe\n",
    "df_chol = pd.DataFrame([observed_cholesterol,expected_cholesterol]).T\n",
    "df_chol.columns = ['observed cholesterol','expected cholesterol']\n",
    "df_chol.head()"
   ]
  },
  {
   "cell_type": "code",
   "execution_count": null,
   "metadata": {},
   "outputs": [],
   "source": [
    "#Dinesh\n",
    "#Run chi square for cholesterol\n",
    "stats.chisquare(df_chol['observed cholesterol'], df_chol['expected cholesterol'])"
   ]
  },
  {
   "cell_type": "code",
   "execution_count": null,
   "metadata": {},
   "outputs": [],
   "source": [
    "#Vin\n",
    "#Create expected for chi test\n",
    "active_cardio_0 = len(cardio_0[cardio_0[\"active\"] == 1])\n",
    "inactive_cardio_0 = len(cardio_0[cardio_0[\"active\"] == 0])\n",
    "total_0 = len(cardio_0[\"active\"])\n",
    "print (inactive_cardio_0, active_cardio_0, total_0)\n",
    "expected = pd.Series([active_cardio_0,inactive_cardio_0], index=[\"Active\", \"Inactive\"])\n",
    "print(expected)"
   ]
  },
  {
   "cell_type": "code",
   "execution_count": null,
   "metadata": {},
   "outputs": [],
   "source": [
    "#Vin\n",
    "#Create observed for chi test\n",
    "active_cardio_1 = len(cardio_1[cardio_1[\"active\"] == 1])\n",
    "inactive_cardio_1 = len(cardio_1[cardio_1[\"active\"] == 0])\n",
    "total_1 = len(cardio_1[\"active\"])\n",
    "print (inactive_cardio_1, active_cardio_1, total_1)\n",
    "observed = pd.Series([active_cardio_1,inactive_cardio_1], index=[\"Active\", \"Inactive\"])\n",
    "print(observed)"
   ]
  },
  {
   "cell_type": "code",
   "execution_count": null,
   "metadata": {},
   "outputs": [],
   "source": [
    "#Vin\n",
    "#Create dataframe for Chi test\n",
    "activitylevel_df = pd.DataFrame([observed,expected]).T\n",
    "activitylevel_df.columns = ['Observed','Expected']\n",
    "activitylevel_df.head()"
   ]
  },
  {
   "cell_type": "code",
   "execution_count": null,
   "metadata": {},
   "outputs": [],
   "source": [
    "#Vin\n",
    "#Run chi square test for active lifestyle\n",
    "stats.chisquare(activitylevel_df['Observed'], activitylevel_df['Expected'])"
   ]
  },
  {
   "cell_type": "code",
   "execution_count": null,
   "metadata": {},
   "outputs": [],
   "source": [
    "#Adil\n",
    "# Height\n",
    "stats.ttest_ind(cardio_0['height'], cardio_1['height'], equal_var = False)"
   ]
  },
  {
   "cell_type": "code",
   "execution_count": null,
   "metadata": {},
   "outputs": [],
   "source": [
    "#Adil\n",
    "#Create bell curve for height\n",
    "height0 = sns.distplot(cardio_0['height'],fit=norm, kde=False, bins = 40, label = \"height-No Heart Attack\", color = \"g\", fit_kws={\"color\":\"green\"})\n",
    "height1 = sns.distplot(cardio_1['height'],fit=norm, kde=False, bins = 40, label = \"height-Heart Attack\", color = \"b\", fit_kws={\"color\":\"blue\"})\n",
    "\n",
    "#Change how it looks\n",
    "sns.set_style(\"darkgrid\")\n",
    "sns.set_style(\"ticks\")\n",
    "sns.set_context(\"paper\", font_scale=1.5)\n",
    "sns.set_palette(\"deep\")\n",
    "height0.set(xlabel='Height', ylabel='Frequency Count', title = \"Height: Risk of Heart Attack\")\n",
    "height1.set(xlabel='Height', ylabel='Frequency Count', title = \"Height: Risk of Heart Attack\")\n",
    "\n",
    "#Set x limits\n",
    "height0.set(xlim = [20,100])\n",
    "height1.set(xlim = [20,100])\n",
    "\n",
    "#Save the figure\n",
    "height0.figure.savefig(\"Height.png\")\n",
    "height1.figure.savefig(\"Height.png\")"
   ]
  },
  {
   "cell_type": "code",
   "execution_count": null,
   "metadata": {},
   "outputs": [],
   "source": [
    "#Adil\n",
    "# Box Plot\n",
    "sns.boxplot(x='cardio',y='height', data=cardio_df)"
   ]
  },
  {
   "cell_type": "code",
   "execution_count": null,
   "metadata": {},
   "outputs": [],
   "source": [
    "#Adil\n",
    "# BMI\n",
    "stats.ttest_ind(cardio_0['BMI'], cardio_1['BMI'], equal_var = False)"
   ]
  },
  {
   "cell_type": "code",
   "execution_count": null,
   "metadata": {},
   "outputs": [],
   "source": [
    "#Adil\n",
    "#BMI bell curve\n",
    "bmi0 = sns.distplot(cardio_0['BMI'],fit=norm, kde=False, bins = 40, label = \"BMI-No Heart Attack\", color = \"g\", fit_kws={\"color\":\"green\"})\n",
    "bmi1 = sns.distplot(cardio_1['BMI'],fit=norm, kde=False, bins = 40, label = \"BMI-Heart Attack\", color = \"b\", fit_kws={\"color\":\"blue\"})\n",
    "\n",
    "#Change how it looks\n",
    "sns.set_style(\"darkgrid\")\n",
    "sns.set_style(\"ticks\")\n",
    "sns.set_context(\"paper\", font_scale=1.5)\n",
    "sns.set_palette(\"deep\")\n",
    "bmi0.set(xlabel='BMI', ylabel='Frequency Count', title = \"BMI: Risk of Heart Attack\")\n",
    "bmi1.set(xlabel='BMI', ylabel='Frequency Count', title = \"BMI: Risk of Heart Attack\")\n",
    "\n",
    "#Set x limits\n",
    "bmi0.set(xlim = [0,100])\n",
    "bmi1.set(xlim = [0,100])\n",
    "\n",
    "#Save the figure\n",
    "bmi0.figure.savefig(\"BMI.png\")\n",
    "bmi1.figure.savefig(\"BMI.png\")"
   ]
  },
  {
   "cell_type": "code",
   "execution_count": null,
   "metadata": {},
   "outputs": [],
   "source": [
    "#Adil\n",
    "#Observed for chi for smoking\n",
    "nosmoke_attack = len(cardio_1[cardio_1[\"smoke\"] == 0])\n",
    "print(nosmoke_attack)\n",
    "\n",
    "smoke_attack = len(cardio_1[cardio_1[\"smoke\"] == 1])\n",
    "smoke_attack\n",
    "\n",
    "#Create observed series\n",
    "observed=pd.Series([nosmoke_attack,smoke_attack],index = ['non-smoking', 'smoking'])\n",
    "observed"
   ]
  },
  {
   "cell_type": "code",
   "execution_count": null,
   "metadata": {},
   "outputs": [],
   "source": [
    "#Adil\n",
    "#Expected for chi for smoking\n",
    "nosmoke_noattack = len(cardio_0[cardio_0[\"smoke\"] == 0])\n",
    "nosmoke_noattack\n",
    "\n",
    "smoke_noattack = len(cardio_0[cardio_0[\"smoke\"] == 1])\n",
    "smoke_noattack\n",
    "\n",
    "#Create expected series\n",
    "expected=pd.Series([nosmoke_noattack, smoke_noattack],index = ['non-smoking', 'smoking'])\n",
    "expected"
   ]
  },
  {
   "cell_type": "code",
   "execution_count": null,
   "metadata": {},
   "outputs": [],
   "source": [
    "#Adil\n",
    "#Create chi dataframe for smoking\n",
    "df = pd.DataFrame([observed,expected]).T\n",
    "df.columns = ['observed','expected']\n",
    "df"
   ]
  },
  {
   "cell_type": "code",
   "execution_count": null,
   "metadata": {},
   "outputs": [],
   "source": [
    "#Adil\n",
    "#Run chi test for smoking\n",
    "stats.chisquare(df['observed'], df['expected'])"
   ]
  },
  {
   "cell_type": "code",
   "execution_count": null,
   "metadata": {},
   "outputs": [],
   "source": [
    "#Yannick\n",
    "# T test of weight for both group (with heart attack and without heart attack)\n",
    "stats.ttest_ind(cardio_0['weight'], cardio_1['weight'], equal_var=False)"
   ]
  },
  {
   "cell_type": "code",
   "execution_count": null,
   "metadata": {},
   "outputs": [],
   "source": [
    "#Yannick\n",
    "# Plot weight without heat attack (cardio_0) and with heart attack (cardio_1)\n",
    "weight0 = sns.distplot(cardio_0[\"weight\"], bins=10, fit=stats.norm, kde=False, label = \"No Heart Attack\", color = \"g\", fit_kws ={\"color\":\"green\"})\n",
    "weight1 = sns.distplot(cardio_1[\"weight\"], bins=10, fit=stats.norm, kde=False, label = \"Heart Attack\", color = \"b\", fit_kws ={\"color\":\"blue\"})\n",
    "\n",
    "#Change how it looks\n",
    "sns.set_style(\"darkgrid\")\n",
    "sns.set_style(\"ticks\")\n",
    "sns.set_context(\"paper\", font_scale=1.5)\n",
    "sns.set_palette(\"deep\")\n",
    "weight0.set(xlabel='Weight', ylabel='Frequency Count', title = \"Weight: Risk of Heart Attack\")\n",
    "weight1.set(xlabel='Weight', ylabel='Frequency Count', title = \"Weight: Risk of Heart Attack\")\n",
    "\n",
    "#Set x limits\n",
    "weight0.set(xlim = [0,350])\n",
    "weight1.set(xlim = [0,350])\n",
    "\n",
    "#Save the figure\n",
    "weight0.figure.savefig(\"Weight.png\")\n",
    "weight1.figure.savefig(\"Weight.png\")"
   ]
  },
  {
   "cell_type": "code",
   "execution_count": null,
   "metadata": {},
   "outputs": [],
   "source": [
    "#Yannick\n",
    "# Plot weight without heat attack (cardio_0) and with heart attack (cardio_1) not fit\n",
    "w0 = sns.distplot(cardio_0[\"weight\"], bins=10, kde=False, label = \"No Heart Attack\", color = \"g\")\n",
    "w1 = sns.distplot(cardio_1[\"weight\"], bins=10, kde=False, label = \"Heart Attack\", color = \"b\")\n",
    "\n",
    "#Change how it looks\n",
    "sns.set_style(\"darkgrid\")\n",
    "sns.set_style(\"ticks\")\n",
    "sns.set_context(\"paper\", font_scale=1.5)\n",
    "sns.set_palette(\"deep\")\n",
    "w0.set(xlabel='Weight', ylabel='Frequency Count', title = \"Weight: Risk of Heart Attack\")\n",
    "w1.set(xlabel='Weight', ylabel='Frequency Count', title = \"Weight: Risk of Heart Attack\")\n",
    "\n",
    "#Set x limits\n",
    "w0.set(xlim = [0,350])\n",
    "w1.set(xlim = [0,350])\n",
    "\n",
    "#Save the figure\n",
    "w0.figure.savefig(\"Weight2.png\")\n",
    "w1.figure.savefig(\"Weight2.png\")"
   ]
  },
  {
   "cell_type": "code",
   "execution_count": null,
   "metadata": {},
   "outputs": [],
   "source": [
    "#Yannick\n",
    "# Observed alcohol level (with heart attack)\n",
    "alcoholic_attack = len(cardio_1[cardio_1[\"alco\"] == 1 ])\n",
    "print(alcoholic_attack)\n",
    "nonealcoholic_attack = len(cardio_1[cardio_1[\"alco\"] == 0 ])\n",
    "print(nonealcoholic_attack)"
   ]
  },
  {
   "cell_type": "code",
   "execution_count": null,
   "metadata": {},
   "outputs": [],
   "source": [
    "#Yannick\n",
    "#create dataframe for observed alcohol level(with heart attack)\n",
    "observed_alcohol=pd.Series([alcoholic_attack, nonealcoholic_attack],index = ['Consume alcohol', 'Do not consume alcohol'])\n",
    "observed_alcohol"
   ]
  },
  {
   "cell_type": "code",
   "execution_count": null,
   "metadata": {},
   "outputs": [],
   "source": [
    "#Yannick\n",
    "# Expected alcohol level (without heart attack)\n",
    "alcoholic_no_attack = len(cardio_0[cardio_0[\"alco\"] == 1 ])\n",
    "print(alcoholic_no_attack)\n",
    "nonealcoholic_no_attack = len(cardio_0[cardio_0[\"alco\"] == 0 ])\n",
    "print(nonealcoholic_no_attack)"
   ]
  },
  {
   "cell_type": "code",
   "execution_count": null,
   "metadata": {},
   "outputs": [],
   "source": [
    "#Yannick\n",
    "#create dataframe for expected alcohol level (without heart attack)\n",
    "expected_alcohol=pd.Series([alcoholic_no_attack, nonealcoholic_no_attack],index = ['Consume alcohol', 'Do not consume alcohol'])\n",
    "expected_alcohol"
   ]
  },
  {
   "cell_type": "code",
   "execution_count": null,
   "metadata": {},
   "outputs": [],
   "source": [
    "#Yannick\n",
    "# create dataframe for both expected (without heart attack) and observed (with heart attack)\n",
    "df_alco = pd.DataFrame([observed_alcohol,expected_alcohol]).T\n",
    "df_alco.columns = [\"Observed alcohol\",\"Expected alcohol\"]\n",
    "df_alco"
   ]
  },
  {
   "cell_type": "code",
   "execution_count": null,
   "metadata": {},
   "outputs": [],
   "source": [
    "#Yannick\n",
    "# The degree of freedom is 3-1 = 2\n",
    "# With a p-value of 0.05, the confidence level is 1.00-0.05 = 0.95.\n",
    "critical_value = stats.chi2.ppf(q = 0.95, df = 2)\n",
    "critical_value"
   ]
  },
  {
   "cell_type": "code",
   "execution_count": null,
   "metadata": {},
   "outputs": [],
   "source": [
    "#Yannick\n",
    "# Run the chi square test with stats.chisquare()\n",
    "stats.chisquare(df_alco['Observed alcohol'], df_alco['Expected alcohol'])"
   ]
  },
  {
   "cell_type": "code",
   "execution_count": null,
   "metadata": {},
   "outputs": [],
   "source": []
  }
 ],
 "metadata": {
  "kernelspec": {
   "display_name": "Python 36 (PythonData)",
   "language": "python",
   "name": "pythondata"
  },
  "language_info": {
   "codemirror_mode": {
    "name": "ipython",
    "version": 3
   },
   "file_extension": ".py",
   "mimetype": "text/x-python",
   "name": "python",
   "nbconvert_exporter": "python",
   "pygments_lexer": "ipython3",
   "version": "3.6.8"
  }
 },
 "nbformat": 4,
 "nbformat_minor": 2
}
